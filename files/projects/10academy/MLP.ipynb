{
 "cells": [
  {
   "cell_type": "markdown",
   "metadata": {},
   "source": [
    "# Multilayer Perceptron and Neural Network"
   ]
  },
  {
   "cell_type": "markdown",
   "metadata": {},
   "source": [
    "## A Perceptron is an algorithm used for supervised learning of binary classifiers\n",
    "<img src=\"perceptron_2.jpg\"\n",
    "      />"
   ]
  },
  {
   "cell_type": "markdown",
   "metadata": {},
   "source": [
    "### Update rule\n",
    "$\\mathbf{w}_{t+1}=\\mathbf{w}_{t}+\\left(1-H\\left(y_{i} \\mathbf{w}^{\\top} \\mathbf{x}_{i}\\right)\\right) y_{i} \\mathbf{x}_{i}$"
   ]
  },
  {
   "cell_type": "code",
   "execution_count": 53,
   "metadata": {},
   "outputs": [],
   "source": [
    "import numpy as np\n",
    "import pandas as pd\n",
    "from sklearn import datasets"
   ]
  },
  {
   "cell_type": "code",
   "execution_count": 54,
   "metadata": {},
   "outputs": [],
   "source": [
    "class perceptron:\n",
    "    def __init__(self,lr=0.1,n_iter=200,init_param='random'):\n",
    "        self.lr = lr\n",
    "        self.n_iter = n_iter\n",
    "        self.init_param = init_param\n",
    "        self.theta = None\n",
    "    \n",
    "    \n",
    "    def fit(self,X,y):\n",
    "        b = np.ones(X.shape[0])\n",
    "        b = b.reshape(b.shape[0],-1)\n",
    "        X = X.reshape(X.shape[0],-1)\n",
    "        X = np.hstack((b,X))\n",
    "        \n",
    "        y = np.where(y==0,-1,1)\n",
    "\n",
    "        if self.init_param =='zero':\n",
    "            self.theta = np.zeros(X.shape[1])\n",
    "        elif self.init_param =='random':\n",
    "            self.theta = np.random.rand(X.shape[1])\n",
    "        else:\n",
    "            raise Exception(\"Wrong parameters initialization, initialize to zero or random\")\n",
    "            \n",
    "        for _iter in range(self.n_iter):\n",
    "            for ind in range(X.shape[0]):\n",
    "                y_hat = self.theta.T.dot(X[ind])\n",
    "                if np.sign(y_hat) == y[ind]:\n",
    "                    pass\n",
    "                else:\n",
    "                    self.theta = self.theta + y[ind] * X[ind]\n",
    "    \n",
    "    def predict(self,X):\n",
    "        b = np.ones(X.shape[0])\n",
    "        b = b.reshape(b.shape[0],-1)\n",
    "        X = X.reshape(X.shape[0],-1)\n",
    "        X = np.hstack((b,X))\n",
    "        pred = np.sign(X.dot(self.theta))\n",
    "        return np.where(pred==1,1,0)\n",
    "\n",
    "    def accuracy(self,pred,label):\n",
    "        return np.sum(pred==label)/len(label)"
   ]
  },
  {
   "cell_type": "code",
   "execution_count": 55,
   "metadata": {},
   "outputs": [],
   "source": [
    "iris = datasets.load_iris()\n",
    "X = iris.data[:, :]  \n",
    "y = iris.target\n",
    "y = (y>0)*1"
   ]
  },
  {
   "cell_type": "code",
   "execution_count": 68,
   "metadata": {},
   "outputs": [],
   "source": [
    "data = np.hstack((X,y.reshape(-1,1)))\n",
    "np.random.shuffle(data)\n",
    "data = pd.DataFrame(data,columns=['Feature1','Feature2','Feature3','Feature4','Target'])"
   ]
  },
  {
   "cell_type": "code",
   "execution_count": 69,
   "metadata": {},
   "outputs": [
    {
     "data": {
      "text/html": [
       "<div>\n",
       "<style scoped>\n",
       "    .dataframe tbody tr th:only-of-type {\n",
       "        vertical-align: middle;\n",
       "    }\n",
       "\n",
       "    .dataframe tbody tr th {\n",
       "        vertical-align: top;\n",
       "    }\n",
       "\n",
       "    .dataframe thead th {\n",
       "        text-align: right;\n",
       "    }\n",
       "</style>\n",
       "<table border=\"1\" class=\"dataframe\">\n",
       "  <thead>\n",
       "    <tr style=\"text-align: right;\">\n",
       "      <th></th>\n",
       "      <th>Feature1</th>\n",
       "      <th>Feature2</th>\n",
       "      <th>Feature3</th>\n",
       "      <th>Feature4</th>\n",
       "      <th>Target</th>\n",
       "    </tr>\n",
       "  </thead>\n",
       "  <tbody>\n",
       "    <tr>\n",
       "      <td>0</td>\n",
       "      <td>5.1</td>\n",
       "      <td>3.4</td>\n",
       "      <td>1.5</td>\n",
       "      <td>0.2</td>\n",
       "      <td>0.0</td>\n",
       "    </tr>\n",
       "    <tr>\n",
       "      <td>1</td>\n",
       "      <td>5.6</td>\n",
       "      <td>2.8</td>\n",
       "      <td>4.9</td>\n",
       "      <td>2.0</td>\n",
       "      <td>1.0</td>\n",
       "    </tr>\n",
       "    <tr>\n",
       "      <td>2</td>\n",
       "      <td>7.7</td>\n",
       "      <td>3.0</td>\n",
       "      <td>6.1</td>\n",
       "      <td>2.3</td>\n",
       "      <td>1.0</td>\n",
       "    </tr>\n",
       "    <tr>\n",
       "      <td>3</td>\n",
       "      <td>6.2</td>\n",
       "      <td>2.9</td>\n",
       "      <td>4.3</td>\n",
       "      <td>1.3</td>\n",
       "      <td>1.0</td>\n",
       "    </tr>\n",
       "    <tr>\n",
       "      <td>4</td>\n",
       "      <td>5.0</td>\n",
       "      <td>3.5</td>\n",
       "      <td>1.6</td>\n",
       "      <td>0.6</td>\n",
       "      <td>0.0</td>\n",
       "    </tr>\n",
       "    <tr>\n",
       "      <td>5</td>\n",
       "      <td>5.8</td>\n",
       "      <td>2.8</td>\n",
       "      <td>5.1</td>\n",
       "      <td>2.4</td>\n",
       "      <td>1.0</td>\n",
       "    </tr>\n",
       "  </tbody>\n",
       "</table>\n",
       "</div>"
      ],
      "text/plain": [
       "   Feature1  Feature2  Feature3  Feature4  Target\n",
       "0       5.1       3.4       1.5       0.2     0.0\n",
       "1       5.6       2.8       4.9       2.0     1.0\n",
       "2       7.7       3.0       6.1       2.3     1.0\n",
       "3       6.2       2.9       4.3       1.3     1.0\n",
       "4       5.0       3.5       1.6       0.6     0.0\n",
       "5       5.8       2.8       5.1       2.4     1.0"
      ]
     },
     "execution_count": 69,
     "metadata": {},
     "output_type": "execute_result"
    }
   ],
   "source": [
    "#data.head(6)"
   ]
  },
  {
   "cell_type": "code",
   "execution_count": 60,
   "metadata": {},
   "outputs": [
    {
     "name": "stdout",
     "output_type": "stream",
     "text": [
      "None\n"
     ]
    }
   ],
   "source": [
    "model = perceptron(n_iter=300,init_param='random')\n",
    "print('Model Pramenters: ',model.theta)"
   ]
  },
  {
   "cell_type": "code",
   "execution_count": 62,
   "metadata": {},
   "outputs": [
    {
     "name": "stdout",
     "output_type": "stream",
     "text": [
      "Model Pramenters:  [-0.68541919 -1.12122172 -3.4261289   5.38552346  2.85796252]\n"
     ]
    }
   ],
   "source": [
    "model.fit(X,y)\n",
    "print('Model Pramenters: ',model.theta)"
   ]
  },
  {
   "cell_type": "code",
   "execution_count": 65,
   "metadata": {},
   "outputs": [
    {
     "name": "stdout",
     "output_type": "stream",
     "text": [
      "Training accuracy:  1.0\n"
     ]
    }
   ],
   "source": [
    "print('Training accuracy: ',model.accuracy(model.predict(X),y))"
   ]
  },
  {
   "cell_type": "markdown",
   "metadata": {},
   "source": [
    "## Multi-layer Perceptron\n",
    "<img src=\"mlp_1.jpeg\"\n",
    "      />\n",
    "      \n",
    "MLp are typically represented by composing together many different functions. $f(\\boldsymbol{x})=f^{(3)}\\left(f^{(2)}\\left(f^{(1)}(\\boldsymbol{x})\\right)\\right)$"
   ]
  },
  {
   "cell_type": "markdown",
   "metadata": {},
   "source": [
    "# Forward pass and back-prop\n",
    "<img src=\"MLP.png\"/>\n",
    "$\\frac{\\partial L}{\\partial W_{2}}=\\frac{\\partial L}{\\partial X_{2}} \\frac{\\partial X_2}{\\partial W_{2}}$ \n",
    "\n",
    "$\\frac{\\partial L}{\\partial W_{1}}=\\frac{\\partial L}{\\partial X_{2}} \\frac{\\partial X_2}{\\partial X_{1}} \\frac{\\partial X_1}{\\partial W_{1}}$\n",
    "\n",
    "#### Parameters update $W \\leftarrow W-\\alpha * \\nabla_{w} L$\n",
    "Assume Mean squared error loss $L(X_2, Y) = ||X2 - Y||^2$\n",
    "\n",
    "$\\frac{\\partial L}{\\partial X_{2}} = 2(X_2 - Y)$ \n",
    "\n",
    "$\\frac{\\partial X_2}{\\partial W_{2}} = X_1$\n",
    "\n",
    "$\\frac{\\partial X_2}{\\partial X_{1}} = W_2$\n",
    "\n",
    "$\\frac{\\partial X_1}{\\partial W_{1}} = X$\n",
    "\n",
    "$\\nabla_{w_2} L = 2(X_2 - Y)X_1$ and $\\nabla_{w_1} L = 2(X_2 - Y)W_2X$\n"
   ]
  },
  {
   "cell_type": "code",
   "execution_count": null,
   "metadata": {},
   "outputs": [],
   "source": []
  }
 ],
 "metadata": {
  "kernelspec": {
   "display_name": "Python 3",
   "language": "python",
   "name": "python3"
  },
  "language_info": {
   "codemirror_mode": {
    "name": "ipython",
    "version": 3
   },
   "file_extension": ".py",
   "mimetype": "text/x-python",
   "name": "python",
   "nbconvert_exporter": "python",
   "pygments_lexer": "ipython3",
   "version": "3.7.4"
  }
 },
 "nbformat": 4,
 "nbformat_minor": 2
}
